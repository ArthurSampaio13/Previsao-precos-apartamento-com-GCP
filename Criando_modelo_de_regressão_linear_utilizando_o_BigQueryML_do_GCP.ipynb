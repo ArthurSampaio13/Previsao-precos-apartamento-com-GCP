{
  "nbformat": 4,
  "nbformat_minor": 0,
  "metadata": {
    "colab": {
      "provenance": [],
      "authorship_tag": "ABX9TyNldJfCzzRxP/XbT1IRQWUK",
      "include_colab_link": true
    },
    "kernelspec": {
      "name": "python3",
      "display_name": "Python 3"
    },
    "language_info": {
      "name": "python"
    }
  },
  "cells": [
    {
      "cell_type": "markdown",
      "metadata": {
        "id": "view-in-github",
        "colab_type": "text"
      },
      "source": [
        "<a href=\"https://colab.research.google.com/github/ArthurSampaio13/Previsao-precos-apartamento-com-GCP/blob/main/Criando_modelo_de_regress%C3%A3o_linear_utilizando_o_BigQueryML_do_GCP.ipynb\" target=\"_parent\"><img src=\"https://colab.research.google.com/assets/colab-badge.svg\" alt=\"Open In Colab\"/></a>"
      ]
    },
    {
      "cell_type": "markdown",
      "source": [
        "## Criação do modelo. Realizei o desenvolvimento das queries para obter os melhores resultados. Utilizei a abordagem de tentativa e erro, além das colunas relevantes que havia separado anteriormente.\n"
      ],
      "metadata": {
        "id": "pc1Hacp-5WYO"
      }
    },
    {
      "cell_type": "code",
      "source": [
        "CREATE OR REPLACE MODEL Modelo.Final\n",
        "\n",
        "OPTIONS\n",
        "  (model_type='linear_reg',\n",
        "    input_label_cols=['price']) AS\n",
        "\n",
        "WITH training_data AS (\n",
        "  SELECT\n",
        "    host_since,\n",
        "    host_is_superhost,\n",
        "    property_type,\n",
        "    room_type,\n",
        "    accommodates,\n",
        "    bedrooms,\n",
        "    beds,\n",
        "    amenities,\n",
        "    number_of_reviews,\n",
        "    number_of_reviews_ltm,\n",
        "    number_of_reviews_l30d,\n",
        "    reviews_per_month,\n",
        "    price,\n",
        "  FROM\n",
        "    Sauter.TabelaSauter\n",
        "  WHERE\n",
        "    price IS NOT NULL\n",
        ")\n",
        "\n",
        "SELECT\n",
        "    host_since,\n",
        "    host_is_superhost,\n",
        "    property_type,\n",
        "    room_type,\n",
        "    accommodates,\n",
        "    bedrooms,\n",
        "    beds,\n",
        "    amenities,\n",
        "    number_of_reviews,\n",
        "    number_of_reviews_ltm,\n",
        "    number_of_reviews_l30d,\n",
        "    reviews_per_month,\n",
        "    price,\n",
        "FROM\n",
        "  training_data;"
      ],
      "metadata": {
        "id": "etoatON75R5U"
      },
      "execution_count": null,
      "outputs": []
    },
    {
      "cell_type": "markdown",
      "source": [
        "## Query para prever os preços"
      ],
      "metadata": {
        "id": "iqj-r-uh5d0r"
      }
    },
    {
      "cell_type": "code",
      "execution_count": null,
      "metadata": {
        "id": "jaTMAttT4w1y"
      },
      "outputs": [],
      "source": [
        "SELECT\n",
        "  *\n",
        "FROM\n",
        "  ML.PREDICT(MODEL Modelo.Final,\n",
        "    (\n",
        "    SELECT\n",
        "      host_since,\n",
        "      host_is_superhost,\n",
        "      property_type,\n",
        "      room_type,\n",
        "      accommodates,\n",
        "      bedrooms,\n",
        "      beds,\n",
        "      amenities,\n",
        "      number_of_reviews,\n",
        "      number_of_reviews_ltm,\n",
        "      number_of_reviews_l30d,\n",
        "      reviews_per_month,\n",
        "      price,\n",
        "    FROM\n",
        "      Sauter.TabelaSauter\n",
        "    WHERE\n",
        "      price IS NOT NULL))"
      ]
    },
    {
      "cell_type": "markdown",
      "source": [
        "##  Query para chegar nas métricas"
      ],
      "metadata": {
        "id": "vbikRsZa5eur"
      }
    },
    {
      "cell_type": "code",
      "source": [
        "SELECT\n",
        "  *\n",
        "FROM\n",
        "  ML.EVALUATE(MODEL Modelo.Final,\n",
        "    (\n",
        "    SELECT\n",
        "      host_since,\n",
        "      host_is_superhost,\n",
        "      property_type,\n",
        "      room_type,\n",
        "      accommodates,\n",
        "      bedrooms,\n",
        "      beds,\n",
        "      amenities,\n",
        "      number_of_reviews,\n",
        "      number_of_reviews_ltm,\n",
        "      number_of_reviews_l30d,\n",
        "      reviews_per_month,\n",
        "      price,\n",
        "    FROM\n",
        "      Sauter.TabelaSauter\n",
        "    WHERE\n",
        "      price IS NOT NULL))"
      ],
      "metadata": {
        "id": "2DezoA4W5BFA"
      },
      "execution_count": null,
      "outputs": []
    }
  ]
}